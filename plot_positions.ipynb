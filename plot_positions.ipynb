{
 "metadata": {
  "language_info": {
   "codemirror_mode": {
    "name": "ipython",
    "version": 3
   },
   "file_extension": ".py",
   "mimetype": "text/x-python",
   "name": "python",
   "nbconvert_exporter": "python",
   "pygments_lexer": "ipython3",
   "version": "3.8.7-final"
  },
  "orig_nbformat": 2,
  "kernelspec": {
   "name": "python3",
   "display_name": "Python 3",
   "language": "python"
  }
 },
 "nbformat": 4,
 "nbformat_minor": 2,
 "cells": [
  {
   "cell_type": "code",
   "execution_count": 20,
   "metadata": {},
   "outputs": [
    {
     "output_type": "display_data",
     "data": {
      "application/javascript": "\n(function(root) {\n  function now() {\n    return new Date();\n  }\n\n  var force = true;\n\n  if (typeof root._bokeh_onload_callbacks === \"undefined\" || force === true) {\n    root._bokeh_onload_callbacks = [];\n    root._bokeh_is_loading = undefined;\n  }\n\n  if (typeof (root._bokeh_timeout) === \"undefined\" || force === true) {\n    root._bokeh_timeout = Date.now() + 5000;\n    root._bokeh_failed_load = false;\n  }\n\n  function run_callbacks() {\n    try {\n      root._bokeh_onload_callbacks.forEach(function(callback) {\n        if (callback != null)\n          callback();\n      });\n    } finally {\n      delete root._bokeh_onload_callbacks\n    }\n    console.debug(\"Bokeh: all callbacks have finished\");\n  }\n\n  function load_libs(css_urls, js_urls, callback) {\n    if (css_urls == null) css_urls = [];\n    if (js_urls == null) js_urls = [];\n\n    root._bokeh_onload_callbacks.push(callback);\n    if (root._bokeh_is_loading > 0) {\n      console.debug(\"Bokeh: BokehJS is being loaded, scheduling callback at\", now());\n      return null;\n    }\n    if (js_urls == null || js_urls.length === 0) {\n      run_callbacks();\n      return null;\n    }\n    console.debug(\"Bokeh: BokehJS not loaded, scheduling load and callback at\", now());\n    root._bokeh_is_loading = css_urls.length + js_urls.length;\n\n    function on_load() {\n      root._bokeh_is_loading--;\n      if (root._bokeh_is_loading === 0) {\n        console.debug(\"Bokeh: all BokehJS libraries/stylesheets loaded\");\n        run_callbacks()\n      }\n    }\n\n    function on_error() {\n      console.error(\"failed to load \" + url);\n    }\n\n    for (var i = 0; i < css_urls.length; i++) {\n      var url = css_urls[i];\n      const element = document.createElement(\"link\");\n      element.onload = on_load;\n      element.onerror = on_error;\n      element.rel = \"stylesheet\";\n      element.type = \"text/css\";\n      element.href = url;\n      console.debug(\"Bokeh: injecting link tag for BokehJS stylesheet: \", url);\n      document.body.appendChild(element);\n    }\n\n    var skip = [];\n    if (window.requirejs) {\n      window.requirejs.config({'paths': {'plotly': 'https://cdn.plot.ly/plotly-latest.min'}});\n      require([], function() {\n      })\n    }\n    if (((window['Plotly'] !== undefined) && (!(window['Plotly'] instanceof HTMLElement))) || window.requirejs) {\n      var urls = ['https://cdn.plot.ly/plotly-latest.min.js'];\n      for (var i = 0; i < urls.length; i++) {\n        skip.push(urls[i])\n      }\n    }\n    for (var i = 0; i < js_urls.length; i++) {\n      var url = js_urls[i];\n      if (skip.indexOf(url) >= 0) { on_load(); continue; }\n      var element = document.createElement('script');\n      element.onload = on_load;\n      element.onerror = on_error;\n      element.async = false;\n      element.src = url;\n      console.debug(\"Bokeh: injecting script tag for BokehJS library: \", url);\n      document.head.appendChild(element);\n    }\n\tif (!js_urls.length) {\n      on_load()\n    }\n  };\n\n  function inject_raw_css(css) {\n    const element = document.createElement(\"style\");\n    element.appendChild(document.createTextNode(css));\n    document.body.appendChild(element);\n  }\n\n  var js_urls = [\"https://code.jquery.com/jquery-3.4.1.min.js\", \"https://cdn.plot.ly/plotly-latest.min.js\", \"https://cdn.bokeh.org/bokeh/release/bokeh-2.2.3.min.js\", \"https://cdn.bokeh.org/bokeh/release/bokeh-widgets-2.2.3.min.js\", \"https://cdn.bokeh.org/bokeh/release/bokeh-tables-2.2.3.min.js\", \"https://unpkg.com/@holoviz/panel@^0.10.2/dist/panel.min.js\"];\n  var css_urls = [\"https://unpkg.com/@holoviz/panel@0.10.2/dist/css/alerts.css\", \"https://unpkg.com/@holoviz/panel@0.10.2/dist/css/card.css\", \"https://unpkg.com/@holoviz/panel@0.10.2/dist/css/dataframe.css\", \"https://unpkg.com/@holoviz/panel@0.10.2/dist/css/json.css\", \"https://unpkg.com/@holoviz/panel@0.10.2/dist/css/markdown.css\", \"https://unpkg.com/@holoviz/panel@0.10.2/dist/css/widgets.css\"];\n\n  var inline_js = [\n    function(Bokeh) {\n      Bokeh.set_log_level(\"info\");\n    },\n    function(Bokeh) {} // ensure no trailing comma for IE\n  ];\n\n  function run_inline_js() {\n    if ((root.Bokeh !== undefined) || (force === true)) {\n      for (var i = 0; i < inline_js.length; i++) {\n        inline_js[i].call(root, root.Bokeh);\n      }} else if (Date.now() < root._bokeh_timeout) {\n      setTimeout(run_inline_js, 100);\n    } else if (!root._bokeh_failed_load) {\n      console.log(\"Bokeh: BokehJS failed to load within specified timeout.\");\n      root._bokeh_failed_load = true;\n    }\n  }\n\n  if (root._bokeh_is_loading === 0) {\n    console.debug(\"Bokeh: BokehJS loaded, going straight to plotting\");\n    run_inline_js();\n  } else {\n    load_libs(css_urls, js_urls, function() {\n      console.debug(\"Bokeh: BokehJS plotting callback run at\", now());\n      run_inline_js();\n    });\n  }\n}(window));",
      "application/vnd.holoviews_load.v0+json": "\n(function(root) {\n  function now() {\n    return new Date();\n  }\n\n  var force = true;\n\n  if (typeof root._bokeh_onload_callbacks === \"undefined\" || force === true) {\n    root._bokeh_onload_callbacks = [];\n    root._bokeh_is_loading = undefined;\n  }\n\n  if (typeof (root._bokeh_timeout) === \"undefined\" || force === true) {\n    root._bokeh_timeout = Date.now() + 5000;\n    root._bokeh_failed_load = false;\n  }\n\n  function run_callbacks() {\n    try {\n      root._bokeh_onload_callbacks.forEach(function(callback) {\n        if (callback != null)\n          callback();\n      });\n    } finally {\n      delete root._bokeh_onload_callbacks\n    }\n    console.debug(\"Bokeh: all callbacks have finished\");\n  }\n\n  function load_libs(css_urls, js_urls, callback) {\n    if (css_urls == null) css_urls = [];\n    if (js_urls == null) js_urls = [];\n\n    root._bokeh_onload_callbacks.push(callback);\n    if (root._bokeh_is_loading > 0) {\n      console.debug(\"Bokeh: BokehJS is being loaded, scheduling callback at\", now());\n      return null;\n    }\n    if (js_urls == null || js_urls.length === 0) {\n      run_callbacks();\n      return null;\n    }\n    console.debug(\"Bokeh: BokehJS not loaded, scheduling load and callback at\", now());\n    root._bokeh_is_loading = css_urls.length + js_urls.length;\n\n    function on_load() {\n      root._bokeh_is_loading--;\n      if (root._bokeh_is_loading === 0) {\n        console.debug(\"Bokeh: all BokehJS libraries/stylesheets loaded\");\n        run_callbacks()\n      }\n    }\n\n    function on_error() {\n      console.error(\"failed to load \" + url);\n    }\n\n    for (var i = 0; i < css_urls.length; i++) {\n      var url = css_urls[i];\n      const element = document.createElement(\"link\");\n      element.onload = on_load;\n      element.onerror = on_error;\n      element.rel = \"stylesheet\";\n      element.type = \"text/css\";\n      element.href = url;\n      console.debug(\"Bokeh: injecting link tag for BokehJS stylesheet: \", url);\n      document.body.appendChild(element);\n    }\n\n    var skip = [];\n    if (window.requirejs) {\n      window.requirejs.config({'paths': {'plotly': 'https://cdn.plot.ly/plotly-latest.min'}});\n      require([], function() {\n      })\n    }\n    if (((window['Plotly'] !== undefined) && (!(window['Plotly'] instanceof HTMLElement))) || window.requirejs) {\n      var urls = ['https://cdn.plot.ly/plotly-latest.min.js'];\n      for (var i = 0; i < urls.length; i++) {\n        skip.push(urls[i])\n      }\n    }\n    for (var i = 0; i < js_urls.length; i++) {\n      var url = js_urls[i];\n      if (skip.indexOf(url) >= 0) { on_load(); continue; }\n      var element = document.createElement('script');\n      element.onload = on_load;\n      element.onerror = on_error;\n      element.async = false;\n      element.src = url;\n      console.debug(\"Bokeh: injecting script tag for BokehJS library: \", url);\n      document.head.appendChild(element);\n    }\n\tif (!js_urls.length) {\n      on_load()\n    }\n  };\n\n  function inject_raw_css(css) {\n    const element = document.createElement(\"style\");\n    element.appendChild(document.createTextNode(css));\n    document.body.appendChild(element);\n  }\n\n  var js_urls = [\"https://code.jquery.com/jquery-3.4.1.min.js\", \"https://cdn.plot.ly/plotly-latest.min.js\", \"https://cdn.bokeh.org/bokeh/release/bokeh-2.2.3.min.js\", \"https://cdn.bokeh.org/bokeh/release/bokeh-widgets-2.2.3.min.js\", \"https://cdn.bokeh.org/bokeh/release/bokeh-tables-2.2.3.min.js\", \"https://unpkg.com/@holoviz/panel@^0.10.2/dist/panel.min.js\"];\n  var css_urls = [\"https://unpkg.com/@holoviz/panel@0.10.2/dist/css/alerts.css\", \"https://unpkg.com/@holoviz/panel@0.10.2/dist/css/card.css\", \"https://unpkg.com/@holoviz/panel@0.10.2/dist/css/dataframe.css\", \"https://unpkg.com/@holoviz/panel@0.10.2/dist/css/json.css\", \"https://unpkg.com/@holoviz/panel@0.10.2/dist/css/markdown.css\", \"https://unpkg.com/@holoviz/panel@0.10.2/dist/css/widgets.css\"];\n\n  var inline_js = [\n    function(Bokeh) {\n      Bokeh.set_log_level(\"info\");\n    },\n    function(Bokeh) {} // ensure no trailing comma for IE\n  ];\n\n  function run_inline_js() {\n    if ((root.Bokeh !== undefined) || (force === true)) {\n      for (var i = 0; i < inline_js.length; i++) {\n        inline_js[i].call(root, root.Bokeh);\n      }} else if (Date.now() < root._bokeh_timeout) {\n      setTimeout(run_inline_js, 100);\n    } else if (!root._bokeh_failed_load) {\n      console.log(\"Bokeh: BokehJS failed to load within specified timeout.\");\n      root._bokeh_failed_load = true;\n    }\n  }\n\n  if (root._bokeh_is_loading === 0) {\n    console.debug(\"Bokeh: BokehJS loaded, going straight to plotting\");\n    run_inline_js();\n  } else {\n    load_libs(css_urls, js_urls, function() {\n      console.debug(\"Bokeh: BokehJS plotting callback run at\", now());\n      run_inline_js();\n    });\n  }\n}(window));"
     },
     "metadata": {}
    },
    {
     "output_type": "display_data",
     "data": {
      "application/vnd.holoviews_load.v0+json": "\nif ((window.PyViz === undefined) || (window.PyViz instanceof HTMLElement)) {\n  window.PyViz = {comms: {}, comm_status:{}, kernels:{}, receivers: {}, plot_index: []}\n}\n\n\n    function JupyterCommManager() {\n    }\n\n    JupyterCommManager.prototype.register_target = function(plot_id, comm_id, msg_handler) {\n      if (window.comm_manager || ((window.Jupyter !== undefined) && (Jupyter.notebook.kernel != null))) {\n        var comm_manager = window.comm_manager || Jupyter.notebook.kernel.comm_manager;\n        comm_manager.register_target(comm_id, function(comm) {\n          comm.on_msg(msg_handler);\n        });\n      } else if ((plot_id in window.PyViz.kernels) && (window.PyViz.kernels[plot_id])) {\n        window.PyViz.kernels[plot_id].registerCommTarget(comm_id, function(comm) {\n          comm.onMsg = msg_handler;\n        });\n      } else if (typeof google != 'undefined' && google.colab.kernel != null) {\n        google.colab.kernel.comms.registerTarget(comm_id, (comm) => {\n          var messages = comm.messages[Symbol.asyncIterator]();\n          function processIteratorResult(result) {\n            var message = result.value;\n            console.log(message)\n            var content = {data: message.data, comm_id};\n            var buffers = []\n            for (var buffer of message.buffers || []) {\n              buffers.push(new DataView(buffer))\n            }\n            var metadata = message.metadata || {};\n            var msg = {content, buffers, metadata}\n            msg_handler(msg);\n            return messages.next().then(processIteratorResult);\n          }\n          return messages.next().then(processIteratorResult);\n        })\n      }\n    }\n\n    JupyterCommManager.prototype.get_client_comm = function(plot_id, comm_id, msg_handler) {\n      if (comm_id in window.PyViz.comms) {\n        return window.PyViz.comms[comm_id];\n      } else if (window.comm_manager || ((window.Jupyter !== undefined) && (Jupyter.notebook.kernel != null))) {\n        var comm_manager = window.comm_manager || Jupyter.notebook.kernel.comm_manager;\n        var comm = comm_manager.new_comm(comm_id, {}, {}, {}, comm_id);\n        if (msg_handler) {\n          comm.on_msg(msg_handler);\n        }\n      } else if ((plot_id in window.PyViz.kernels) && (window.PyViz.kernels[plot_id])) {\n        var comm = window.PyViz.kernels[plot_id].connectToComm(comm_id);\n        comm.open();\n        if (msg_handler) {\n          comm.onMsg = msg_handler;\n        }\n      } else if (typeof google != 'undefined' && google.colab.kernel != null) {\n        var comm_promise = google.colab.kernel.comms.open(comm_id)\n        comm_promise.then((comm) => {\n          window.PyViz.comms[comm_id] = comm;\n          if (msg_handler) {\n            var messages = comm.messages[Symbol.asyncIterator]();\n            function processIteratorResult(result) {\n              var message = result.value;\n              var content = {data: message.data};\n              var metadata = message.metadata || {comm_id};\n              var msg = {content, metadata}\n              msg_handler(msg);\n              return messages.next().then(processIteratorResult);\n            }\n            return messages.next().then(processIteratorResult);\n          }\n        }) \n        var sendClosure = (data, metadata, buffers, disposeOnDone) => {\n          return comm_promise.then((comm) => {\n            comm.send(data, metadata, buffers, disposeOnDone);\n          });\n        };\n        var comm = {\n          send: sendClosure\n        };\n      }\n      window.PyViz.comms[comm_id] = comm;\n      return comm;\n    }\n    window.PyViz.comm_manager = new JupyterCommManager();\n    \n\n\nvar JS_MIME_TYPE = 'application/javascript';\nvar HTML_MIME_TYPE = 'text/html';\nvar EXEC_MIME_TYPE = 'application/vnd.holoviews_exec.v0+json';\nvar CLASS_NAME = 'output';\n\n/**\n * Render data to the DOM node\n */\nfunction render(props, node) {\n  var div = document.createElement(\"div\");\n  var script = document.createElement(\"script\");\n  node.appendChild(div);\n  node.appendChild(script);\n}\n\n/**\n * Handle when a new output is added\n */\nfunction handle_add_output(event, handle) {\n  var output_area = handle.output_area;\n  var output = handle.output;\n  if ((output.data == undefined) || (!output.data.hasOwnProperty(EXEC_MIME_TYPE))) {\n    return\n  }\n  var id = output.metadata[EXEC_MIME_TYPE][\"id\"];\n  var toinsert = output_area.element.find(\".\" + CLASS_NAME.split(' ')[0]);\n  if (id !== undefined) {\n    var nchildren = toinsert.length;\n    var html_node = toinsert[nchildren-1].children[0];\n    html_node.innerHTML = output.data[HTML_MIME_TYPE];\n    var scripts = [];\n    var nodelist = html_node.querySelectorAll(\"script\");\n    for (var i in nodelist) {\n      if (nodelist.hasOwnProperty(i)) {\n        scripts.push(nodelist[i])\n      }\n    }\n\n    scripts.forEach( function (oldScript) {\n      var newScript = document.createElement(\"script\");\n      var attrs = [];\n      var nodemap = oldScript.attributes;\n      for (var j in nodemap) {\n        if (nodemap.hasOwnProperty(j)) {\n          attrs.push(nodemap[j])\n        }\n      }\n      attrs.forEach(function(attr) { newScript.setAttribute(attr.name, attr.value) });\n      newScript.appendChild(document.createTextNode(oldScript.innerHTML));\n      oldScript.parentNode.replaceChild(newScript, oldScript);\n    });\n    if (JS_MIME_TYPE in output.data) {\n      toinsert[nchildren-1].children[1].textContent = output.data[JS_MIME_TYPE];\n    }\n    output_area._hv_plot_id = id;\n    if ((window.Bokeh !== undefined) && (id in Bokeh.index)) {\n      window.PyViz.plot_index[id] = Bokeh.index[id];\n    } else {\n      window.PyViz.plot_index[id] = null;\n    }\n  } else if (output.metadata[EXEC_MIME_TYPE][\"server_id\"] !== undefined) {\n    var bk_div = document.createElement(\"div\");\n    bk_div.innerHTML = output.data[HTML_MIME_TYPE];\n    var script_attrs = bk_div.children[0].attributes;\n    for (var i = 0; i < script_attrs.length; i++) {\n      toinsert[toinsert.length - 1].childNodes[1].setAttribute(script_attrs[i].name, script_attrs[i].value);\n    }\n    // store reference to server id on output_area\n    output_area._bokeh_server_id = output.metadata[EXEC_MIME_TYPE][\"server_id\"];\n  }\n}\n\n/**\n * Handle when an output is cleared or removed\n */\nfunction handle_clear_output(event, handle) {\n  var id = handle.cell.output_area._hv_plot_id;\n  var server_id = handle.cell.output_area._bokeh_server_id;\n  if (((id === undefined) || !(id in PyViz.plot_index)) && (server_id !== undefined)) { return; }\n  var comm = window.PyViz.comm_manager.get_client_comm(\"hv-extension-comm\", \"hv-extension-comm\", function () {});\n  if (server_id !== null) {\n    comm.send({event_type: 'server_delete', 'id': server_id});\n    return;\n  } else if (comm !== null) {\n    comm.send({event_type: 'delete', 'id': id});\n  }\n  delete PyViz.plot_index[id];\n  if ((window.Bokeh !== undefined) & (id in window.Bokeh.index)) {\n    var doc = window.Bokeh.index[id].model.document\n    doc.clear();\n    const i = window.Bokeh.documents.indexOf(doc);\n    if (i > -1) {\n      window.Bokeh.documents.splice(i, 1);\n    }\n  }\n}\n\n/**\n * Handle kernel restart event\n */\nfunction handle_kernel_cleanup(event, handle) {\n  delete PyViz.comms[\"hv-extension-comm\"];\n  window.PyViz.plot_index = {}\n}\n\n/**\n * Handle update_display_data messages\n */\nfunction handle_update_output(event, handle) {\n  handle_clear_output(event, {cell: {output_area: handle.output_area}})\n  handle_add_output(event, handle)\n}\n\nfunction register_renderer(events, OutputArea) {\n  function append_mime(data, metadata, element) {\n    // create a DOM node to render to\n    var toinsert = this.create_output_subarea(\n    metadata,\n    CLASS_NAME,\n    EXEC_MIME_TYPE\n    );\n    this.keyboard_manager.register_events(toinsert);\n    // Render to node\n    var props = {data: data, metadata: metadata[EXEC_MIME_TYPE]};\n    render(props, toinsert[0]);\n    element.append(toinsert);\n    return toinsert\n  }\n\n  events.on('output_added.OutputArea', handle_add_output);\n  events.on('output_updated.OutputArea', handle_update_output);\n  events.on('clear_output.CodeCell', handle_clear_output);\n  events.on('delete.Cell', handle_clear_output);\n  events.on('kernel_ready.Kernel', handle_kernel_cleanup);\n\n  OutputArea.prototype.register_mime_type(EXEC_MIME_TYPE, append_mime, {\n    safe: true,\n    index: 0\n  });\n}\n\nif (window.Jupyter !== undefined) {\n  try {\n    var events = require('base/js/events');\n    var OutputArea = require('notebook/js/outputarea').OutputArea;\n    if (OutputArea.prototype.mime_types().indexOf(EXEC_MIME_TYPE) == -1) {\n      register_renderer(events, OutputArea);\n    }\n  } catch(err) {\n  }\n}\n",
      "application/javascript": "\nif ((window.PyViz === undefined) || (window.PyViz instanceof HTMLElement)) {\n  window.PyViz = {comms: {}, comm_status:{}, kernels:{}, receivers: {}, plot_index: []}\n}\n\n\n    function JupyterCommManager() {\n    }\n\n    JupyterCommManager.prototype.register_target = function(plot_id, comm_id, msg_handler) {\n      if (window.comm_manager || ((window.Jupyter !== undefined) && (Jupyter.notebook.kernel != null))) {\n        var comm_manager = window.comm_manager || Jupyter.notebook.kernel.comm_manager;\n        comm_manager.register_target(comm_id, function(comm) {\n          comm.on_msg(msg_handler);\n        });\n      } else if ((plot_id in window.PyViz.kernels) && (window.PyViz.kernels[plot_id])) {\n        window.PyViz.kernels[plot_id].registerCommTarget(comm_id, function(comm) {\n          comm.onMsg = msg_handler;\n        });\n      } else if (typeof google != 'undefined' && google.colab.kernel != null) {\n        google.colab.kernel.comms.registerTarget(comm_id, (comm) => {\n          var messages = comm.messages[Symbol.asyncIterator]();\n          function processIteratorResult(result) {\n            var message = result.value;\n            console.log(message)\n            var content = {data: message.data, comm_id};\n            var buffers = []\n            for (var buffer of message.buffers || []) {\n              buffers.push(new DataView(buffer))\n            }\n            var metadata = message.metadata || {};\n            var msg = {content, buffers, metadata}\n            msg_handler(msg);\n            return messages.next().then(processIteratorResult);\n          }\n          return messages.next().then(processIteratorResult);\n        })\n      }\n    }\n\n    JupyterCommManager.prototype.get_client_comm = function(plot_id, comm_id, msg_handler) {\n      if (comm_id in window.PyViz.comms) {\n        return window.PyViz.comms[comm_id];\n      } else if (window.comm_manager || ((window.Jupyter !== undefined) && (Jupyter.notebook.kernel != null))) {\n        var comm_manager = window.comm_manager || Jupyter.notebook.kernel.comm_manager;\n        var comm = comm_manager.new_comm(comm_id, {}, {}, {}, comm_id);\n        if (msg_handler) {\n          comm.on_msg(msg_handler);\n        }\n      } else if ((plot_id in window.PyViz.kernels) && (window.PyViz.kernels[plot_id])) {\n        var comm = window.PyViz.kernels[plot_id].connectToComm(comm_id);\n        comm.open();\n        if (msg_handler) {\n          comm.onMsg = msg_handler;\n        }\n      } else if (typeof google != 'undefined' && google.colab.kernel != null) {\n        var comm_promise = google.colab.kernel.comms.open(comm_id)\n        comm_promise.then((comm) => {\n          window.PyViz.comms[comm_id] = comm;\n          if (msg_handler) {\n            var messages = comm.messages[Symbol.asyncIterator]();\n            function processIteratorResult(result) {\n              var message = result.value;\n              var content = {data: message.data};\n              var metadata = message.metadata || {comm_id};\n              var msg = {content, metadata}\n              msg_handler(msg);\n              return messages.next().then(processIteratorResult);\n            }\n            return messages.next().then(processIteratorResult);\n          }\n        }) \n        var sendClosure = (data, metadata, buffers, disposeOnDone) => {\n          return comm_promise.then((comm) => {\n            comm.send(data, metadata, buffers, disposeOnDone);\n          });\n        };\n        var comm = {\n          send: sendClosure\n        };\n      }\n      window.PyViz.comms[comm_id] = comm;\n      return comm;\n    }\n    window.PyViz.comm_manager = new JupyterCommManager();\n    \n\n\nvar JS_MIME_TYPE = 'application/javascript';\nvar HTML_MIME_TYPE = 'text/html';\nvar EXEC_MIME_TYPE = 'application/vnd.holoviews_exec.v0+json';\nvar CLASS_NAME = 'output';\n\n/**\n * Render data to the DOM node\n */\nfunction render(props, node) {\n  var div = document.createElement(\"div\");\n  var script = document.createElement(\"script\");\n  node.appendChild(div);\n  node.appendChild(script);\n}\n\n/**\n * Handle when a new output is added\n */\nfunction handle_add_output(event, handle) {\n  var output_area = handle.output_area;\n  var output = handle.output;\n  if ((output.data == undefined) || (!output.data.hasOwnProperty(EXEC_MIME_TYPE))) {\n    return\n  }\n  var id = output.metadata[EXEC_MIME_TYPE][\"id\"];\n  var toinsert = output_area.element.find(\".\" + CLASS_NAME.split(' ')[0]);\n  if (id !== undefined) {\n    var nchildren = toinsert.length;\n    var html_node = toinsert[nchildren-1].children[0];\n    html_node.innerHTML = output.data[HTML_MIME_TYPE];\n    var scripts = [];\n    var nodelist = html_node.querySelectorAll(\"script\");\n    for (var i in nodelist) {\n      if (nodelist.hasOwnProperty(i)) {\n        scripts.push(nodelist[i])\n      }\n    }\n\n    scripts.forEach( function (oldScript) {\n      var newScript = document.createElement(\"script\");\n      var attrs = [];\n      var nodemap = oldScript.attributes;\n      for (var j in nodemap) {\n        if (nodemap.hasOwnProperty(j)) {\n          attrs.push(nodemap[j])\n        }\n      }\n      attrs.forEach(function(attr) { newScript.setAttribute(attr.name, attr.value) });\n      newScript.appendChild(document.createTextNode(oldScript.innerHTML));\n      oldScript.parentNode.replaceChild(newScript, oldScript);\n    });\n    if (JS_MIME_TYPE in output.data) {\n      toinsert[nchildren-1].children[1].textContent = output.data[JS_MIME_TYPE];\n    }\n    output_area._hv_plot_id = id;\n    if ((window.Bokeh !== undefined) && (id in Bokeh.index)) {\n      window.PyViz.plot_index[id] = Bokeh.index[id];\n    } else {\n      window.PyViz.plot_index[id] = null;\n    }\n  } else if (output.metadata[EXEC_MIME_TYPE][\"server_id\"] !== undefined) {\n    var bk_div = document.createElement(\"div\");\n    bk_div.innerHTML = output.data[HTML_MIME_TYPE];\n    var script_attrs = bk_div.children[0].attributes;\n    for (var i = 0; i < script_attrs.length; i++) {\n      toinsert[toinsert.length - 1].childNodes[1].setAttribute(script_attrs[i].name, script_attrs[i].value);\n    }\n    // store reference to server id on output_area\n    output_area._bokeh_server_id = output.metadata[EXEC_MIME_TYPE][\"server_id\"];\n  }\n}\n\n/**\n * Handle when an output is cleared or removed\n */\nfunction handle_clear_output(event, handle) {\n  var id = handle.cell.output_area._hv_plot_id;\n  var server_id = handle.cell.output_area._bokeh_server_id;\n  if (((id === undefined) || !(id in PyViz.plot_index)) && (server_id !== undefined)) { return; }\n  var comm = window.PyViz.comm_manager.get_client_comm(\"hv-extension-comm\", \"hv-extension-comm\", function () {});\n  if (server_id !== null) {\n    comm.send({event_type: 'server_delete', 'id': server_id});\n    return;\n  } else if (comm !== null) {\n    comm.send({event_type: 'delete', 'id': id});\n  }\n  delete PyViz.plot_index[id];\n  if ((window.Bokeh !== undefined) & (id in window.Bokeh.index)) {\n    var doc = window.Bokeh.index[id].model.document\n    doc.clear();\n    const i = window.Bokeh.documents.indexOf(doc);\n    if (i > -1) {\n      window.Bokeh.documents.splice(i, 1);\n    }\n  }\n}\n\n/**\n * Handle kernel restart event\n */\nfunction handle_kernel_cleanup(event, handle) {\n  delete PyViz.comms[\"hv-extension-comm\"];\n  window.PyViz.plot_index = {}\n}\n\n/**\n * Handle update_display_data messages\n */\nfunction handle_update_output(event, handle) {\n  handle_clear_output(event, {cell: {output_area: handle.output_area}})\n  handle_add_output(event, handle)\n}\n\nfunction register_renderer(events, OutputArea) {\n  function append_mime(data, metadata, element) {\n    // create a DOM node to render to\n    var toinsert = this.create_output_subarea(\n    metadata,\n    CLASS_NAME,\n    EXEC_MIME_TYPE\n    );\n    this.keyboard_manager.register_events(toinsert);\n    // Render to node\n    var props = {data: data, metadata: metadata[EXEC_MIME_TYPE]};\n    render(props, toinsert[0]);\n    element.append(toinsert);\n    return toinsert\n  }\n\n  events.on('output_added.OutputArea', handle_add_output);\n  events.on('output_updated.OutputArea', handle_update_output);\n  events.on('clear_output.CodeCell', handle_clear_output);\n  events.on('delete.Cell', handle_clear_output);\n  events.on('kernel_ready.Kernel', handle_kernel_cleanup);\n\n  OutputArea.prototype.register_mime_type(EXEC_MIME_TYPE, append_mime, {\n    safe: true,\n    index: 0\n  });\n}\n\nif (window.Jupyter !== undefined) {\n  try {\n    var events = require('base/js/events');\n    var OutputArea = require('notebook/js/outputarea').OutputArea;\n    if (OutputArea.prototype.mime_types().indexOf(EXEC_MIME_TYPE) == -1) {\n      register_renderer(events, OutputArea);\n    }\n  } catch(err) {\n  }\n}\n"
     },
     "metadata": {}
    }
   ],
   "source": [
    "import panel as pn\n",
    "pn.extension('plotly')\n",
    "from panel import widgets\n",
    "from panel.interact import interact, interactive\n",
    "import pandas as pd\n",
    "import numpy as np\n",
    "import requests\n",
    "import json\n",
    "import alpaca_trade_api as tradeapi\n",
    "from datetime import datetime, timedelta\n",
    "from pathlib import Path\n",
    "import time\n",
    "from colorama import Fore\n",
    "import panel as pn \n",
    "from datetime import datetime, timedelta\n",
    "import plotly.graph_objects as go\n",
    "import dateutil.parser as parser\n",
    "from plotly.subplots import make_subplots"
   ]
  },
  {
   "cell_type": "code",
   "execution_count": 21,
   "metadata": {},
   "outputs": [],
   "source": [
    "# alpacas stuff\n",
    "key_id = \"\"\n",
    "secret_key = \"\"\n",
    "\n",
    "api = tradeapi.REST(\n",
    "    base_url = 'https://paper-api.alpaca.markets',\n",
    "    key_id = key_id,\n",
    "    secret_key = secret_key\n",
    ")"
   ]
  },
  {
   "cell_type": "code",
   "execution_count": 22,
   "metadata": {},
   "outputs": [],
   "source": [
    "orders = {}\n",
    "counter = 0\n",
    "for order in api.list_orders(status='closed'):\n",
    "    orders[counter] = {'created_at': order.created_at, 'filled_at': order.filled_at, 'side': order.side, 'canceled_at': order.canceled_at, 'symbol': order.symbol, 'qty': order.qty, 'filled_avg_price': order.filled_avg_price}\n",
    "    counter += 1"
   ]
  },
  {
   "cell_type": "code",
   "execution_count": 23,
   "metadata": {},
   "outputs": [
    {
     "output_type": "execute_result",
     "data": {
      "text/plain": [
       "                         created_at                        filled_at  side  \\\n",
       "0  2021-02-08 19:19:58.780862+00:00 2021-02-08 19:19:59.704469+00:00   buy   \n",
       "1  2021-02-08 14:31:29.546760+00:00 2021-02-08 19:18:00.312393+00:00  sell   \n",
       "2  2021-02-08 19:10:37.793191+00:00 2021-02-08 19:10:38.019913+00:00   buy   \n",
       "3  2021-02-08 18:34:17.009643+00:00 2021-02-08 18:46:21.511262+00:00  sell   \n",
       "4  2021-02-08 18:44:23.925999+00:00 2021-02-08 18:44:23.985085+00:00   buy   \n",
       "5  2021-02-08 18:34:16.833885+00:00 2021-02-08 18:34:16.943425+00:00   buy   \n",
       "6  2021-02-08 18:00:16.833762+00:00 2021-02-08 18:22:32.934606+00:00  sell   \n",
       "7  2021-02-08 18:00:16.065832+00:00 2021-02-08 18:00:16.762262+00:00   buy   \n",
       "8  2021-02-08 17:28:53.706582+00:00 2021-02-08 17:28:53.999495+00:00   buy   \n",
       "9  2021-02-08 16:29:49.674798+00:00 2021-02-08 17:27:40.013995+00:00  sell   \n",
       "10 2021-02-08 17:22:33.893323+00:00 2021-02-08 17:22:34.128438+00:00   buy   \n",
       "11 2021-02-08 14:33:19.196258+00:00 2021-02-08 17:20:17.317406+00:00  sell   \n",
       "12 2021-02-08 17:15:35.528908+00:00 2021-02-08 17:15:35.684662+00:00   buy   \n",
       "13 2021-02-08 14:45:56.836557+00:00 2021-02-08 16:37:21.736581+00:00  sell   \n",
       "14 2021-02-08 16:29:49.297392+00:00 2021-02-08 16:29:49.618719+00:00   buy   \n",
       "15 2021-02-08 16:12:13.236374+00:00 2021-02-08 16:12:13.530895+00:00   buy   \n",
       "16 2021-02-08 16:10:44.325315+00:00 2021-02-08 16:10:44.562794+00:00   buy   \n",
       "17 2021-02-08 15:55:55.521951+00:00 2021-02-08 15:55:55.850861+00:00   buy   \n",
       "18 2021-02-08 15:02:43.865651+00:00 2021-02-08 15:42:09.633828+00:00  sell   \n",
       "19 2021-02-08 14:31:09.908349+00:00 2021-02-08 15:26:41.645565+00:00  sell   \n",
       "20 2021-02-08 15:15:38.128478+00:00 2021-02-08 15:15:38.671992+00:00   buy   \n",
       "21 2021-02-08 15:02:43.502640+00:00 2021-02-08 15:02:43.802548+00:00   buy   \n",
       "22 2021-02-08 14:45:56.621838+00:00 2021-02-08 14:45:56.768267+00:00   buy   \n",
       "23 2021-02-08 14:40:53.262780+00:00 2021-02-08 14:40:53.560220+00:00   buy   \n",
       "24 2021-02-08 14:33:18.833794+00:00 2021-02-08 14:33:19.130456+00:00   buy   \n",
       "25 2021-02-08 14:33:09.643953+00:00 2021-02-08 14:33:09.800466+00:00   buy   \n",
       "26 2021-02-08 14:31:28.853141+00:00 2021-02-08 14:31:29.478339+00:00   buy   \n",
       "27 2021-02-08 14:31:09.626665+00:00 2021-02-08 14:31:09.832053+00:00   buy   \n",
       "28 2021-02-05 20:30:06.179221+00:00 2021-02-05 20:30:06.408882+00:00  sell   \n",
       "29 2021-02-05 20:30:06.167174+00:00 2021-02-05 20:30:06.413734+00:00  sell   \n",
       "30 2021-02-05 20:30:06.153409+00:00 2021-02-05 20:30:06.549220+00:00  sell   \n",
       "31 2021-02-05 20:30:06.095504+00:00 2021-02-05 20:30:06.494375+00:00  sell   \n",
       "32 2021-02-05 20:30:06.081913+00:00 2021-02-05 20:30:06.570455+00:00  sell   \n",
       "33 2021-02-05 20:30:06.030234+00:00 2021-02-05 20:30:06.107149+00:00  sell   \n",
       "34 2021-02-05 20:30:06.019831+00:00 2021-02-05 20:30:06.298458+00:00  sell   \n",
       "35 2021-02-05 20:30:06.005033+00:00 2021-02-05 20:30:06.210347+00:00  sell   \n",
       "36 2021-02-05 20:30:05.995305+00:00 2021-02-05 20:30:06.229806+00:00  sell   \n",
       "37 2021-02-05 20:11:19.983467+00:00                              NaT  sell   \n",
       "38 2021-02-05 20:11:19.600438+00:00 2021-02-05 20:11:19.918294+00:00   buy   \n",
       "39 2021-02-05 20:07:18.151199+00:00                              NaT  sell   \n",
       "40 2021-02-05 20:07:17.967910+00:00 2021-02-05 20:07:18.085233+00:00   buy   \n",
       "41 2021-02-05 20:03:39.529967+00:00                              NaT  sell   \n",
       "42 2021-02-05 20:03:39.253209+00:00 2021-02-05 20:03:39.474065+00:00   buy   \n",
       "43 2021-02-05 19:34:12.014129+00:00                              NaT  sell   \n",
       "44 2021-02-05 19:34:11.818583+00:00 2021-02-05 19:34:11.950737+00:00   buy   \n",
       "45 2021-02-05 19:18:34.300302+00:00                              NaT  sell   \n",
       "46 2021-02-05 19:18:33.764924+00:00 2021-02-05 19:18:34.244537+00:00   buy   \n",
       "47 2021-02-05 18:42:04.298951+00:00                              NaT  sell   \n",
       "48 2021-02-05 18:42:03.742924+00:00 2021-02-05 18:42:04.240784+00:00   buy   \n",
       "49 2021-02-05 17:57:02.222303+00:00                              NaT  sell   \n",
       "\n",
       "                        canceled_at symbol   qty filled_avg_price  \n",
       "0                               NaT    KIQ  1960             1.03  \n",
       "1                               NaT    SOS   477              3.9  \n",
       "2                               NaT   PPBT   309             6.45  \n",
       "3                               NaT   OPGN   491             3.92  \n",
       "4                               NaT   ABIO   398             5.08  \n",
       "5                               NaT   OPGN   491             4.11  \n",
       "6                               NaT   OPGN   673             3.67  \n",
       "7                               NaT   OPGN   673             2.98  \n",
       "8                               NaT   TANH   888             2.25  \n",
       "9                               NaT   ENSV   716             2.91  \n",
       "10                              NaT   LLIT   260             7.79  \n",
       "11                              NaT   CTRM  2246           0.8918  \n",
       "12                              NaT   HEPA   787             2.66  \n",
       "13                              NaT   WATT   454             4.41  \n",
       "14                              NaT   ENSV   716             2.81  \n",
       "15                              NaT   PBLA   294              6.8  \n",
       "16                              NaT   WORX   813             2.54  \n",
       "17                              NaT   HUSA   760              2.6  \n",
       "18                              NaT   OBLG   389             5.35  \n",
       "19                              NaT   VISL   455             4.31  \n",
       "20                              NaT    DPW   406             4.92  \n",
       "21                              NaT   OBLG   389             5.51  \n",
       "22                              NaT   WATT   454             4.35  \n",
       "23                              NaT   COMS   414              4.7  \n",
       "24                              NaT   CTRM  2246           0.8985  \n",
       "25                              NaT   TTOO   615             3.27  \n",
       "26                              NaT    SOS   477             4.19  \n",
       "27                              NaT   VISL   455             4.17  \n",
       "28                              NaT   COMS   434             4.68  \n",
       "29                              NaT   CTRM  2624           0.7621  \n",
       "30                              NaT   JUPW   317             6.41  \n",
       "31                              NaT   LLIT   257             7.53  \n",
       "32                              NaT   OCGN   391             5.13  \n",
       "33                              NaT   PBLA   268              7.4  \n",
       "34                              NaT   QLGN   500             4.04  \n",
       "35                              NaT   SEEL   619             3.28  \n",
       "36                              NaT   VISL   666             3.67  \n",
       "37 2021-02-05 20:30:05.925440+00:00   OCGN   391             None  \n",
       "38                              NaT   OCGN   391             5.13  \n",
       "39 2021-02-05 20:30:05.921218+00:00   SEEL   619             None  \n",
       "40                              NaT   SEEL   619             3.23  \n",
       "41 2021-02-05 20:30:05.917345+00:00   QLGN   500             None  \n",
       "42                              NaT   QLGN   500             4.01  \n",
       "43 2021-02-05 20:30:05.934480+00:00   PBLA   268             None  \n",
       "44                              NaT   PBLA   268              7.6  \n",
       "45 2021-02-05 20:30:05.938296+00:00   LLIT   257             None  \n",
       "46                              NaT   LLIT   257             7.76  \n",
       "47 2021-02-05 20:30:05.941960+00:00   COMS   434             None  \n",
       "48                              NaT   COMS   434             4.61  \n",
       "49 2021-02-05 20:30:05.946062+00:00   CTRM  2624             None  "
      ],
      "text/html": "<div>\n<style scoped>\n    .dataframe tbody tr th:only-of-type {\n        vertical-align: middle;\n    }\n\n    .dataframe tbody tr th {\n        vertical-align: top;\n    }\n\n    .dataframe thead th {\n        text-align: right;\n    }\n</style>\n<table border=\"1\" class=\"dataframe\">\n  <thead>\n    <tr style=\"text-align: right;\">\n      <th></th>\n      <th>created_at</th>\n      <th>filled_at</th>\n      <th>side</th>\n      <th>canceled_at</th>\n      <th>symbol</th>\n      <th>qty</th>\n      <th>filled_avg_price</th>\n    </tr>\n  </thead>\n  <tbody>\n    <tr>\n      <th>0</th>\n      <td>2021-02-08 19:19:58.780862+00:00</td>\n      <td>2021-02-08 19:19:59.704469+00:00</td>\n      <td>buy</td>\n      <td>NaT</td>\n      <td>KIQ</td>\n      <td>1960</td>\n      <td>1.03</td>\n    </tr>\n    <tr>\n      <th>1</th>\n      <td>2021-02-08 14:31:29.546760+00:00</td>\n      <td>2021-02-08 19:18:00.312393+00:00</td>\n      <td>sell</td>\n      <td>NaT</td>\n      <td>SOS</td>\n      <td>477</td>\n      <td>3.9</td>\n    </tr>\n    <tr>\n      <th>2</th>\n      <td>2021-02-08 19:10:37.793191+00:00</td>\n      <td>2021-02-08 19:10:38.019913+00:00</td>\n      <td>buy</td>\n      <td>NaT</td>\n      <td>PPBT</td>\n      <td>309</td>\n      <td>6.45</td>\n    </tr>\n    <tr>\n      <th>3</th>\n      <td>2021-02-08 18:34:17.009643+00:00</td>\n      <td>2021-02-08 18:46:21.511262+00:00</td>\n      <td>sell</td>\n      <td>NaT</td>\n      <td>OPGN</td>\n      <td>491</td>\n      <td>3.92</td>\n    </tr>\n    <tr>\n      <th>4</th>\n      <td>2021-02-08 18:44:23.925999+00:00</td>\n      <td>2021-02-08 18:44:23.985085+00:00</td>\n      <td>buy</td>\n      <td>NaT</td>\n      <td>ABIO</td>\n      <td>398</td>\n      <td>5.08</td>\n    </tr>\n    <tr>\n      <th>5</th>\n      <td>2021-02-08 18:34:16.833885+00:00</td>\n      <td>2021-02-08 18:34:16.943425+00:00</td>\n      <td>buy</td>\n      <td>NaT</td>\n      <td>OPGN</td>\n      <td>491</td>\n      <td>4.11</td>\n    </tr>\n    <tr>\n      <th>6</th>\n      <td>2021-02-08 18:00:16.833762+00:00</td>\n      <td>2021-02-08 18:22:32.934606+00:00</td>\n      <td>sell</td>\n      <td>NaT</td>\n      <td>OPGN</td>\n      <td>673</td>\n      <td>3.67</td>\n    </tr>\n    <tr>\n      <th>7</th>\n      <td>2021-02-08 18:00:16.065832+00:00</td>\n      <td>2021-02-08 18:00:16.762262+00:00</td>\n      <td>buy</td>\n      <td>NaT</td>\n      <td>OPGN</td>\n      <td>673</td>\n      <td>2.98</td>\n    </tr>\n    <tr>\n      <th>8</th>\n      <td>2021-02-08 17:28:53.706582+00:00</td>\n      <td>2021-02-08 17:28:53.999495+00:00</td>\n      <td>buy</td>\n      <td>NaT</td>\n      <td>TANH</td>\n      <td>888</td>\n      <td>2.25</td>\n    </tr>\n    <tr>\n      <th>9</th>\n      <td>2021-02-08 16:29:49.674798+00:00</td>\n      <td>2021-02-08 17:27:40.013995+00:00</td>\n      <td>sell</td>\n      <td>NaT</td>\n      <td>ENSV</td>\n      <td>716</td>\n      <td>2.91</td>\n    </tr>\n    <tr>\n      <th>10</th>\n      <td>2021-02-08 17:22:33.893323+00:00</td>\n      <td>2021-02-08 17:22:34.128438+00:00</td>\n      <td>buy</td>\n      <td>NaT</td>\n      <td>LLIT</td>\n      <td>260</td>\n      <td>7.79</td>\n    </tr>\n    <tr>\n      <th>11</th>\n      <td>2021-02-08 14:33:19.196258+00:00</td>\n      <td>2021-02-08 17:20:17.317406+00:00</td>\n      <td>sell</td>\n      <td>NaT</td>\n      <td>CTRM</td>\n      <td>2246</td>\n      <td>0.8918</td>\n    </tr>\n    <tr>\n      <th>12</th>\n      <td>2021-02-08 17:15:35.528908+00:00</td>\n      <td>2021-02-08 17:15:35.684662+00:00</td>\n      <td>buy</td>\n      <td>NaT</td>\n      <td>HEPA</td>\n      <td>787</td>\n      <td>2.66</td>\n    </tr>\n    <tr>\n      <th>13</th>\n      <td>2021-02-08 14:45:56.836557+00:00</td>\n      <td>2021-02-08 16:37:21.736581+00:00</td>\n      <td>sell</td>\n      <td>NaT</td>\n      <td>WATT</td>\n      <td>454</td>\n      <td>4.41</td>\n    </tr>\n    <tr>\n      <th>14</th>\n      <td>2021-02-08 16:29:49.297392+00:00</td>\n      <td>2021-02-08 16:29:49.618719+00:00</td>\n      <td>buy</td>\n      <td>NaT</td>\n      <td>ENSV</td>\n      <td>716</td>\n      <td>2.81</td>\n    </tr>\n    <tr>\n      <th>15</th>\n      <td>2021-02-08 16:12:13.236374+00:00</td>\n      <td>2021-02-08 16:12:13.530895+00:00</td>\n      <td>buy</td>\n      <td>NaT</td>\n      <td>PBLA</td>\n      <td>294</td>\n      <td>6.8</td>\n    </tr>\n    <tr>\n      <th>16</th>\n      <td>2021-02-08 16:10:44.325315+00:00</td>\n      <td>2021-02-08 16:10:44.562794+00:00</td>\n      <td>buy</td>\n      <td>NaT</td>\n      <td>WORX</td>\n      <td>813</td>\n      <td>2.54</td>\n    </tr>\n    <tr>\n      <th>17</th>\n      <td>2021-02-08 15:55:55.521951+00:00</td>\n      <td>2021-02-08 15:55:55.850861+00:00</td>\n      <td>buy</td>\n      <td>NaT</td>\n      <td>HUSA</td>\n      <td>760</td>\n      <td>2.6</td>\n    </tr>\n    <tr>\n      <th>18</th>\n      <td>2021-02-08 15:02:43.865651+00:00</td>\n      <td>2021-02-08 15:42:09.633828+00:00</td>\n      <td>sell</td>\n      <td>NaT</td>\n      <td>OBLG</td>\n      <td>389</td>\n      <td>5.35</td>\n    </tr>\n    <tr>\n      <th>19</th>\n      <td>2021-02-08 14:31:09.908349+00:00</td>\n      <td>2021-02-08 15:26:41.645565+00:00</td>\n      <td>sell</td>\n      <td>NaT</td>\n      <td>VISL</td>\n      <td>455</td>\n      <td>4.31</td>\n    </tr>\n    <tr>\n      <th>20</th>\n      <td>2021-02-08 15:15:38.128478+00:00</td>\n      <td>2021-02-08 15:15:38.671992+00:00</td>\n      <td>buy</td>\n      <td>NaT</td>\n      <td>DPW</td>\n      <td>406</td>\n      <td>4.92</td>\n    </tr>\n    <tr>\n      <th>21</th>\n      <td>2021-02-08 15:02:43.502640+00:00</td>\n      <td>2021-02-08 15:02:43.802548+00:00</td>\n      <td>buy</td>\n      <td>NaT</td>\n      <td>OBLG</td>\n      <td>389</td>\n      <td>5.51</td>\n    </tr>\n    <tr>\n      <th>22</th>\n      <td>2021-02-08 14:45:56.621838+00:00</td>\n      <td>2021-02-08 14:45:56.768267+00:00</td>\n      <td>buy</td>\n      <td>NaT</td>\n      <td>WATT</td>\n      <td>454</td>\n      <td>4.35</td>\n    </tr>\n    <tr>\n      <th>23</th>\n      <td>2021-02-08 14:40:53.262780+00:00</td>\n      <td>2021-02-08 14:40:53.560220+00:00</td>\n      <td>buy</td>\n      <td>NaT</td>\n      <td>COMS</td>\n      <td>414</td>\n      <td>4.7</td>\n    </tr>\n    <tr>\n      <th>24</th>\n      <td>2021-02-08 14:33:18.833794+00:00</td>\n      <td>2021-02-08 14:33:19.130456+00:00</td>\n      <td>buy</td>\n      <td>NaT</td>\n      <td>CTRM</td>\n      <td>2246</td>\n      <td>0.8985</td>\n    </tr>\n    <tr>\n      <th>25</th>\n      <td>2021-02-08 14:33:09.643953+00:00</td>\n      <td>2021-02-08 14:33:09.800466+00:00</td>\n      <td>buy</td>\n      <td>NaT</td>\n      <td>TTOO</td>\n      <td>615</td>\n      <td>3.27</td>\n    </tr>\n    <tr>\n      <th>26</th>\n      <td>2021-02-08 14:31:28.853141+00:00</td>\n      <td>2021-02-08 14:31:29.478339+00:00</td>\n      <td>buy</td>\n      <td>NaT</td>\n      <td>SOS</td>\n      <td>477</td>\n      <td>4.19</td>\n    </tr>\n    <tr>\n      <th>27</th>\n      <td>2021-02-08 14:31:09.626665+00:00</td>\n      <td>2021-02-08 14:31:09.832053+00:00</td>\n      <td>buy</td>\n      <td>NaT</td>\n      <td>VISL</td>\n      <td>455</td>\n      <td>4.17</td>\n    </tr>\n    <tr>\n      <th>28</th>\n      <td>2021-02-05 20:30:06.179221+00:00</td>\n      <td>2021-02-05 20:30:06.408882+00:00</td>\n      <td>sell</td>\n      <td>NaT</td>\n      <td>COMS</td>\n      <td>434</td>\n      <td>4.68</td>\n    </tr>\n    <tr>\n      <th>29</th>\n      <td>2021-02-05 20:30:06.167174+00:00</td>\n      <td>2021-02-05 20:30:06.413734+00:00</td>\n      <td>sell</td>\n      <td>NaT</td>\n      <td>CTRM</td>\n      <td>2624</td>\n      <td>0.7621</td>\n    </tr>\n    <tr>\n      <th>30</th>\n      <td>2021-02-05 20:30:06.153409+00:00</td>\n      <td>2021-02-05 20:30:06.549220+00:00</td>\n      <td>sell</td>\n      <td>NaT</td>\n      <td>JUPW</td>\n      <td>317</td>\n      <td>6.41</td>\n    </tr>\n    <tr>\n      <th>31</th>\n      <td>2021-02-05 20:30:06.095504+00:00</td>\n      <td>2021-02-05 20:30:06.494375+00:00</td>\n      <td>sell</td>\n      <td>NaT</td>\n      <td>LLIT</td>\n      <td>257</td>\n      <td>7.53</td>\n    </tr>\n    <tr>\n      <th>32</th>\n      <td>2021-02-05 20:30:06.081913+00:00</td>\n      <td>2021-02-05 20:30:06.570455+00:00</td>\n      <td>sell</td>\n      <td>NaT</td>\n      <td>OCGN</td>\n      <td>391</td>\n      <td>5.13</td>\n    </tr>\n    <tr>\n      <th>33</th>\n      <td>2021-02-05 20:30:06.030234+00:00</td>\n      <td>2021-02-05 20:30:06.107149+00:00</td>\n      <td>sell</td>\n      <td>NaT</td>\n      <td>PBLA</td>\n      <td>268</td>\n      <td>7.4</td>\n    </tr>\n    <tr>\n      <th>34</th>\n      <td>2021-02-05 20:30:06.019831+00:00</td>\n      <td>2021-02-05 20:30:06.298458+00:00</td>\n      <td>sell</td>\n      <td>NaT</td>\n      <td>QLGN</td>\n      <td>500</td>\n      <td>4.04</td>\n    </tr>\n    <tr>\n      <th>35</th>\n      <td>2021-02-05 20:30:06.005033+00:00</td>\n      <td>2021-02-05 20:30:06.210347+00:00</td>\n      <td>sell</td>\n      <td>NaT</td>\n      <td>SEEL</td>\n      <td>619</td>\n      <td>3.28</td>\n    </tr>\n    <tr>\n      <th>36</th>\n      <td>2021-02-05 20:30:05.995305+00:00</td>\n      <td>2021-02-05 20:30:06.229806+00:00</td>\n      <td>sell</td>\n      <td>NaT</td>\n      <td>VISL</td>\n      <td>666</td>\n      <td>3.67</td>\n    </tr>\n    <tr>\n      <th>37</th>\n      <td>2021-02-05 20:11:19.983467+00:00</td>\n      <td>NaT</td>\n      <td>sell</td>\n      <td>2021-02-05 20:30:05.925440+00:00</td>\n      <td>OCGN</td>\n      <td>391</td>\n      <td>None</td>\n    </tr>\n    <tr>\n      <th>38</th>\n      <td>2021-02-05 20:11:19.600438+00:00</td>\n      <td>2021-02-05 20:11:19.918294+00:00</td>\n      <td>buy</td>\n      <td>NaT</td>\n      <td>OCGN</td>\n      <td>391</td>\n      <td>5.13</td>\n    </tr>\n    <tr>\n      <th>39</th>\n      <td>2021-02-05 20:07:18.151199+00:00</td>\n      <td>NaT</td>\n      <td>sell</td>\n      <td>2021-02-05 20:30:05.921218+00:00</td>\n      <td>SEEL</td>\n      <td>619</td>\n      <td>None</td>\n    </tr>\n    <tr>\n      <th>40</th>\n      <td>2021-02-05 20:07:17.967910+00:00</td>\n      <td>2021-02-05 20:07:18.085233+00:00</td>\n      <td>buy</td>\n      <td>NaT</td>\n      <td>SEEL</td>\n      <td>619</td>\n      <td>3.23</td>\n    </tr>\n    <tr>\n      <th>41</th>\n      <td>2021-02-05 20:03:39.529967+00:00</td>\n      <td>NaT</td>\n      <td>sell</td>\n      <td>2021-02-05 20:30:05.917345+00:00</td>\n      <td>QLGN</td>\n      <td>500</td>\n      <td>None</td>\n    </tr>\n    <tr>\n      <th>42</th>\n      <td>2021-02-05 20:03:39.253209+00:00</td>\n      <td>2021-02-05 20:03:39.474065+00:00</td>\n      <td>buy</td>\n      <td>NaT</td>\n      <td>QLGN</td>\n      <td>500</td>\n      <td>4.01</td>\n    </tr>\n    <tr>\n      <th>43</th>\n      <td>2021-02-05 19:34:12.014129+00:00</td>\n      <td>NaT</td>\n      <td>sell</td>\n      <td>2021-02-05 20:30:05.934480+00:00</td>\n      <td>PBLA</td>\n      <td>268</td>\n      <td>None</td>\n    </tr>\n    <tr>\n      <th>44</th>\n      <td>2021-02-05 19:34:11.818583+00:00</td>\n      <td>2021-02-05 19:34:11.950737+00:00</td>\n      <td>buy</td>\n      <td>NaT</td>\n      <td>PBLA</td>\n      <td>268</td>\n      <td>7.6</td>\n    </tr>\n    <tr>\n      <th>45</th>\n      <td>2021-02-05 19:18:34.300302+00:00</td>\n      <td>NaT</td>\n      <td>sell</td>\n      <td>2021-02-05 20:30:05.938296+00:00</td>\n      <td>LLIT</td>\n      <td>257</td>\n      <td>None</td>\n    </tr>\n    <tr>\n      <th>46</th>\n      <td>2021-02-05 19:18:33.764924+00:00</td>\n      <td>2021-02-05 19:18:34.244537+00:00</td>\n      <td>buy</td>\n      <td>NaT</td>\n      <td>LLIT</td>\n      <td>257</td>\n      <td>7.76</td>\n    </tr>\n    <tr>\n      <th>47</th>\n      <td>2021-02-05 18:42:04.298951+00:00</td>\n      <td>NaT</td>\n      <td>sell</td>\n      <td>2021-02-05 20:30:05.941960+00:00</td>\n      <td>COMS</td>\n      <td>434</td>\n      <td>None</td>\n    </tr>\n    <tr>\n      <th>48</th>\n      <td>2021-02-05 18:42:03.742924+00:00</td>\n      <td>2021-02-05 18:42:04.240784+00:00</td>\n      <td>buy</td>\n      <td>NaT</td>\n      <td>COMS</td>\n      <td>434</td>\n      <td>4.61</td>\n    </tr>\n    <tr>\n      <th>49</th>\n      <td>2021-02-05 17:57:02.222303+00:00</td>\n      <td>NaT</td>\n      <td>sell</td>\n      <td>2021-02-05 20:30:05.946062+00:00</td>\n      <td>CTRM</td>\n      <td>2624</td>\n      <td>None</td>\n    </tr>\n  </tbody>\n</table>\n</div>"
     },
     "metadata": {},
     "execution_count": 23
    }
   ],
   "source": [
    "df = pd.DataFrame(orders).transpose()\n",
    "df"
   ]
  },
  {
   "cell_type": "code",
   "execution_count": 24,
   "metadata": {},
   "outputs": [
    {
     "output_type": "execute_result",
     "data": {
      "text/plain": [
       "['SOS',\n",
       " 'OPGN',\n",
       " 'ENSV',\n",
       " 'CTRM',\n",
       " 'WATT',\n",
       " 'OBLG',\n",
       " 'VISL',\n",
       " 'COMS',\n",
       " 'JUPW',\n",
       " 'LLIT',\n",
       " 'OCGN',\n",
       " 'PBLA',\n",
       " 'QLGN',\n",
       " 'SEEL']"
      ]
     },
     "metadata": {},
     "execution_count": 24
    }
   ],
   "source": [
    "unique_completed_symbols = df.loc[(df['side'] == 'sell')]['symbol']\n",
    "list(pd.unique(unique_completed_symbols))"
   ]
  },
  {
   "cell_type": "code",
   "execution_count": 25,
   "metadata": {},
   "outputs": [],
   "source": [
    "\n",
    "# passed a symbol which has had a completed order\n"
   ]
  },
  {
   "cell_type": "code",
   "execution_count": 26,
   "metadata": {},
   "outputs": [],
   "source": [
    "unqs = list(pd.unique(unique_completed_symbols))"
   ]
  },
  {
   "cell_type": "code",
   "execution_count": 27,
   "metadata": {},
   "outputs": [],
   "source": [
    "\n",
    "def show_graph(ticker):\n",
    "    symbol = ticker\n",
    "    was_canceled = False\n",
    "    symbol_df = df.loc[(df['symbol'] == symbol)]\n",
    "    symbol_df = symbol_df.loc[symbol_df['canceled_at'].astype('str') == 'NaT']\n",
    "    symbol_df = symbol_df[-2:]\n",
    "    last_sold = symbol_df.loc[symbol_df['side'] == 'sell'].filled_at.item()\n",
    "    if str(last_sold) == 'NaT':\n",
    "        last_sold = symbol_df.loc[symbol_df['side'] == 'sell'].canceled_at.item()\n",
    "        print(last_sold)\n",
    "        was_canceled = True\n",
    "    last_bought = symbol_df.loc[symbol_df['side'] == 'buy'].filled_at.item()\n",
    "    sold_price = symbol_df.loc[symbol_df['side'] == 'sell'].filled_avg_price.item()\n",
    "\n",
    "    bought_price = symbol_df.loc[symbol_df['side'] == 'buy'].filled_avg_price.item()\n",
    "\n",
    "    #start_date = (pd.to_datetime(last_bought['filled_at']).values[0].dt.round('5min') - timedelta(minutes=5))\n",
    "    #end_date = (pd.to_datetime(last_sold['filled_at']).values[0].dt.round('5min') + timedelta(minutes=5))\n",
    "    start_date = parser.parse(str(last_bought)).isoformat()\n",
    "    end_date = parser.parse(str(last_sold)).isoformat()\n",
    "\n",
    "    start_date = (pd.to_datetime(start_date) - timedelta(minutes=30)).floor('H')\n",
    "    end_date = (pd.to_datetime(end_date) + timedelta(minutes=180)).floor('H')\n",
    "\n",
    "    start_date = parser.parse(str(start_date)).isoformat()\n",
    "    end_date = parser.parse(str(end_date)).isoformat()\n",
    "\n",
    "    bars = api.get_barset(symbol, after=start_date, until=end_date, timeframe='5Min').df\n",
    "    bars = bars[symbol]\n",
    "    #fig = go.Figure()\n",
    "    fig = make_subplots(specs=[[{\"secondary_y\": True}]])\n",
    "    # volume bars\n",
    "    fig.add_trace(go.Bar(x=bars.index, y=bars['volume'], opacity=0.25), secondary_y=False)    \n",
    "    # candlestick\n",
    "    fig.add_trace(go.Candlestick(\n",
    "        x=bars.index, open=bars['open'], high=bars['high'], low=bars['low'], close=bars['close']\n",
    "    ), secondary_y=True)\n",
    "\n",
    "\n",
    "    # convert to necessary datetime format\n",
    "    last_sold = parser.parse(str(pd.to_datetime(last_sold) - timedelta(hours=5))).isoformat()\n",
    "    last_bought = parser.parse(str(pd.to_datetime(last_bought) - timedelta(hours=5))).isoformat()\n",
    "    x_list = [last_sold, last_bought]\n",
    "    # entry line\n",
    "    fig.add_trace(go.Scatter(\n",
    "        x=x_list, y=[bought_price, bought_price], mode='lines+markers', name='Entry'\n",
    "    ), secondary_y=True)\n",
    "    # exit line\n",
    "    fig.add_trace(go.Scatter(\n",
    "        x=x_list, y=[sold_price, sold_price], mode='lines+markers', name='Exit'\n",
    "    ), secondary_y=True)\n",
    "    fig.update_layout(template='plotly_dark', title=f'${symbol} Chart')\n",
    "\n",
    "    print(f'Was Canceled: {was_canceled}')\n",
    "    # print profit/loss, bought price, sold price, signal giver, signal body, time elapsed during trade\n",
    "\n",
    "    return fig\n"
   ]
  },
  {
   "cell_type": "code",
   "execution_count": 28,
   "metadata": {},
   "outputs": [
    {
     "output_type": "stream",
     "name": "stdout",
     "text": [
      "['SOS', 'OPGN', 'ENSV', 'CTRM', 'WATT', 'OBLG', 'VISL', 'COMS', 'JUPW', 'LLIT', 'OCGN', 'PBLA', 'QLGN', 'SEEL']\n",
      "Was Canceled: False\n"
     ]
    },
    {
     "output_type": "display_data",
     "data": {
      "application/vnd.plotly.v1+json": {
       "config": {
        "plotlyServerURL": "https://plot.ly"
       },
       "data": [
        {
         "opacity": 0.25,
         "type": "bar",
         "x": [
          "2021-02-08T09:05:00-05:00",
          "2021-02-08T09:10:00-05:00",
          "2021-02-08T09:15:00-05:00",
          "2021-02-08T09:20:00-05:00",
          "2021-02-08T09:25:00-05:00",
          "2021-02-08T09:30:00-05:00",
          "2021-02-08T09:35:00-05:00",
          "2021-02-08T09:40:00-05:00",
          "2021-02-08T09:45:00-05:00",
          "2021-02-08T09:50:00-05:00",
          "2021-02-08T09:55:00-05:00",
          "2021-02-08T10:00:00-05:00",
          "2021-02-08T10:05:00-05:00",
          "2021-02-08T10:10:00-05:00",
          "2021-02-08T10:15:00-05:00",
          "2021-02-08T10:20:00-05:00",
          "2021-02-08T10:25:00-05:00",
          "2021-02-08T10:30:00-05:00",
          "2021-02-08T10:35:00-05:00",
          "2021-02-08T10:40:00-05:00",
          "2021-02-08T10:45:00-05:00",
          "2021-02-08T10:50:00-05:00",
          "2021-02-08T10:55:00-05:00",
          "2021-02-08T11:00:00-05:00",
          "2021-02-08T11:05:00-05:00",
          "2021-02-08T11:10:00-05:00",
          "2021-02-08T11:15:00-05:00",
          "2021-02-08T11:20:00-05:00",
          "2021-02-08T11:25:00-05:00",
          "2021-02-08T11:30:00-05:00",
          "2021-02-08T11:35:00-05:00",
          "2021-02-08T11:40:00-05:00",
          "2021-02-08T11:45:00-05:00",
          "2021-02-08T11:50:00-05:00",
          "2021-02-08T11:55:00-05:00",
          "2021-02-08T12:00:00-05:00",
          "2021-02-08T12:05:00-05:00",
          "2021-02-08T12:10:00-05:00",
          "2021-02-08T12:15:00-05:00",
          "2021-02-08T12:20:00-05:00",
          "2021-02-08T12:25:00-05:00",
          "2021-02-08T12:30:00-05:00",
          "2021-02-08T12:35:00-05:00",
          "2021-02-08T12:40:00-05:00",
          "2021-02-08T12:45:00-05:00",
          "2021-02-08T12:50:00-05:00",
          "2021-02-08T12:55:00-05:00",
          "2021-02-08T13:00:00-05:00",
          "2021-02-08T13:05:00-05:00",
          "2021-02-08T13:10:00-05:00",
          "2021-02-08T13:15:00-05:00",
          "2021-02-08T13:20:00-05:00",
          "2021-02-08T13:25:00-05:00",
          "2021-02-08T13:30:00-05:00",
          "2021-02-08T13:35:00-05:00",
          "2021-02-08T13:40:00-05:00",
          "2021-02-08T13:45:00-05:00",
          "2021-02-08T13:50:00-05:00",
          "2021-02-08T13:55:00-05:00",
          "2021-02-08T14:00:00-05:00",
          "2021-02-08T14:05:00-05:00",
          "2021-02-08T14:10:00-05:00",
          "2021-02-08T14:15:00-05:00",
          "2021-02-08T14:20:00-05:00",
          "2021-02-08T14:25:00-05:00",
          "2021-02-08T14:30:00-05:00",
          "2021-02-08T14:35:00-05:00",
          "2021-02-08T14:40:00-05:00",
          "2021-02-08T14:45:00-05:00",
          "2021-02-08T14:50:00-05:00",
          "2021-02-08T14:55:00-05:00"
         ],
         "xaxis": "x",
         "y": [
          1150,
          4696,
          5890,
          800,
          2700,
          21864,
          14606,
          8308,
          20103,
          15092,
          1900,
          2640,
          6250,
          12164,
          5185,
          100,
          400,
          2644,
          2657,
          3478,
          2860,
          300,
          2600,
          5990,
          1520,
          14660,
          6739,
          4150,
          1400,
          6117,
          5030,
          2400,
          1502,
          4500,
          700,
          1620,
          3806,
          700,
          1046,
          4227,
          6350,
          1300,
          5100,
          4283,
          7596,
          3475,
          5675,
          2934,
          5610,
          4750,
          900,
          6747,
          2025,
          2815,
          600,
          5840,
          10540,
          9475,
          4800,
          3695,
          1200,
          2902,
          2120,
          8881,
          3114,
          8962,
          12286,
          8556,
          4140,
          9600,
          2066
         ],
         "yaxis": "y"
        },
        {
         "close": [
          4.1,
          4.14,
          4.17,
          4.17,
          4.19,
          4.11,
          4.14,
          4.09,
          4.05,
          3.95,
          4.03,
          4.03,
          4.14,
          4.13,
          4.07,
          4.12,
          4.12,
          4.06,
          4.09,
          4.19,
          4.17,
          4.16,
          4.2,
          4.29,
          4.32,
          4.21,
          4.2,
          4.19,
          4.2,
          4.2,
          4.14,
          4.06,
          4.21,
          4.14,
          4.11,
          4.11,
          4.11,
          4.1,
          4.12,
          4.04,
          4.1,
          4.05,
          4.08,
          4.09,
          4.14,
          4.12,
          4.1,
          4.07,
          4.08,
          4.045,
          4.04,
          4.025,
          4.03,
          4.06,
          4.07,
          4.02,
          3.97,
          3.93,
          4.01,
          4,
          3.99,
          3.975,
          3.925,
          3.93,
          3.92,
          3.95,
          4.05,
          3.99,
          3.97,
          3.93,
          3.97
         ],
         "high": [
          4.1,
          4.14,
          4.17,
          4.17,
          4.2,
          4.18,
          4.18,
          4.13,
          4.07,
          4.07,
          4.03,
          4.04,
          4.14,
          4.19,
          4.16,
          4.12,
          4.13,
          4.07,
          4.14,
          4.2,
          4.19,
          4.16,
          4.2,
          4.32,
          4.35,
          4.31,
          4.24,
          4.2,
          4.22,
          4.25,
          4.16,
          4.13,
          4.21,
          4.18,
          4.14,
          4.11,
          4.12,
          4.11,
          4.12,
          4.13,
          4.14,
          4.1,
          4.11,
          4.09,
          4.18,
          4.14,
          4.11,
          4.11,
          4.1,
          4.07,
          4.07,
          4.065,
          4.065,
          4.095,
          4.075,
          4.075,
          4.04,
          4.01,
          4.035,
          4.045,
          4.01,
          3.975,
          3.98,
          3.96,
          3.95,
          3.95,
          4.05,
          4.05,
          4.01,
          3.97,
          3.97
         ],
         "low": [
          4.1,
          4.13,
          4.16,
          4.17,
          4.18,
          4.05,
          4.1,
          4,
          3.88,
          3.93,
          4,
          4.021,
          4.02,
          4.12,
          4.07,
          4.12,
          4.12,
          4.05,
          4.05,
          4.07,
          4.17,
          4.16,
          4.17,
          4.229,
          4.3,
          4.17,
          4.2,
          4.17,
          4.2,
          4.16,
          4.1,
          4.06,
          4.2,
          4.1,
          4.11,
          4.11,
          4.06,
          4.1,
          4.075,
          4.04,
          4.06,
          4.05,
          4.05,
          4.05,
          4.09,
          4.09,
          4.06,
          4.05,
          4.08,
          4.04,
          4.04,
          4,
          4.03,
          4.03,
          4.07,
          4.02,
          3.96,
          3.93,
          3.95,
          3.97,
          3.99,
          3.94,
          3.9,
          3.88,
          3.92,
          3.841,
          3.95,
          3.96,
          3.95,
          3.93,
          3.92
         ],
         "open": [
          4.1,
          4.13,
          4.17,
          4.17,
          4.2,
          4.17,
          4.14,
          4.13,
          4.07,
          4.065,
          4,
          4.021,
          4.039,
          4.145,
          4.13,
          4.12,
          4.13,
          4.07,
          4.06,
          4.07,
          4.17,
          4.16,
          4.17,
          4.23,
          4.3,
          4.31,
          4.22,
          4.2,
          4.2,
          4.23,
          4.16,
          4.13,
          4.2,
          4.18,
          4.14,
          4.11,
          4.11,
          4.1,
          4.075,
          4.13,
          4.06,
          4.09,
          4.11,
          4.09,
          4.09,
          4.14,
          4.11,
          4.11,
          4.08,
          4.07,
          4.07,
          4.05,
          4.04,
          4.03,
          4.075,
          4.075,
          4.03,
          3.99,
          3.959,
          3.98,
          4,
          3.97,
          3.98,
          3.91,
          3.939,
          3.92,
          3.95,
          4.045,
          4.01,
          3.96,
          3.92
         ],
         "type": "candlestick",
         "x": [
          "2021-02-08T09:05:00-05:00",
          "2021-02-08T09:10:00-05:00",
          "2021-02-08T09:15:00-05:00",
          "2021-02-08T09:20:00-05:00",
          "2021-02-08T09:25:00-05:00",
          "2021-02-08T09:30:00-05:00",
          "2021-02-08T09:35:00-05:00",
          "2021-02-08T09:40:00-05:00",
          "2021-02-08T09:45:00-05:00",
          "2021-02-08T09:50:00-05:00",
          "2021-02-08T09:55:00-05:00",
          "2021-02-08T10:00:00-05:00",
          "2021-02-08T10:05:00-05:00",
          "2021-02-08T10:10:00-05:00",
          "2021-02-08T10:15:00-05:00",
          "2021-02-08T10:20:00-05:00",
          "2021-02-08T10:25:00-05:00",
          "2021-02-08T10:30:00-05:00",
          "2021-02-08T10:35:00-05:00",
          "2021-02-08T10:40:00-05:00",
          "2021-02-08T10:45:00-05:00",
          "2021-02-08T10:50:00-05:00",
          "2021-02-08T10:55:00-05:00",
          "2021-02-08T11:00:00-05:00",
          "2021-02-08T11:05:00-05:00",
          "2021-02-08T11:10:00-05:00",
          "2021-02-08T11:15:00-05:00",
          "2021-02-08T11:20:00-05:00",
          "2021-02-08T11:25:00-05:00",
          "2021-02-08T11:30:00-05:00",
          "2021-02-08T11:35:00-05:00",
          "2021-02-08T11:40:00-05:00",
          "2021-02-08T11:45:00-05:00",
          "2021-02-08T11:50:00-05:00",
          "2021-02-08T11:55:00-05:00",
          "2021-02-08T12:00:00-05:00",
          "2021-02-08T12:05:00-05:00",
          "2021-02-08T12:10:00-05:00",
          "2021-02-08T12:15:00-05:00",
          "2021-02-08T12:20:00-05:00",
          "2021-02-08T12:25:00-05:00",
          "2021-02-08T12:30:00-05:00",
          "2021-02-08T12:35:00-05:00",
          "2021-02-08T12:40:00-05:00",
          "2021-02-08T12:45:00-05:00",
          "2021-02-08T12:50:00-05:00",
          "2021-02-08T12:55:00-05:00",
          "2021-02-08T13:00:00-05:00",
          "2021-02-08T13:05:00-05:00",
          "2021-02-08T13:10:00-05:00",
          "2021-02-08T13:15:00-05:00",
          "2021-02-08T13:20:00-05:00",
          "2021-02-08T13:25:00-05:00",
          "2021-02-08T13:30:00-05:00",
          "2021-02-08T13:35:00-05:00",
          "2021-02-08T13:40:00-05:00",
          "2021-02-08T13:45:00-05:00",
          "2021-02-08T13:50:00-05:00",
          "2021-02-08T13:55:00-05:00",
          "2021-02-08T14:00:00-05:00",
          "2021-02-08T14:05:00-05:00",
          "2021-02-08T14:10:00-05:00",
          "2021-02-08T14:15:00-05:00",
          "2021-02-08T14:20:00-05:00",
          "2021-02-08T14:25:00-05:00",
          "2021-02-08T14:30:00-05:00",
          "2021-02-08T14:35:00-05:00",
          "2021-02-08T14:40:00-05:00",
          "2021-02-08T14:45:00-05:00",
          "2021-02-08T14:50:00-05:00",
          "2021-02-08T14:55:00-05:00"
         ],
         "xaxis": "x",
         "yaxis": "y2"
        },
        {
         "mode": "lines+markers",
         "name": "Entry",
         "type": "scatter",
         "x": [
          "2021-02-08T14:18:00.312393+00:00",
          "2021-02-08T09:31:29.478339+00:00"
         ],
         "xaxis": "x",
         "y": [
          "4.19",
          "4.19"
         ],
         "yaxis": "y2"
        },
        {
         "mode": "lines+markers",
         "name": "Exit",
         "type": "scatter",
         "x": [
          "2021-02-08T14:18:00.312393+00:00",
          "2021-02-08T09:31:29.478339+00:00"
         ],
         "xaxis": "x",
         "y": [
          "3.9",
          "3.9"
         ],
         "yaxis": "y2"
        }
       ],
       "layout": {
        "template": {
         "data": {
          "bar": [
           {
            "error_x": {
             "color": "#f2f5fa"
            },
            "error_y": {
             "color": "#f2f5fa"
            },
            "marker": {
             "line": {
              "color": "rgb(17,17,17)",
              "width": 0.5
             }
            },
            "type": "bar"
           }
          ],
          "barpolar": [
           {
            "marker": {
             "line": {
              "color": "rgb(17,17,17)",
              "width": 0.5
             }
            },
            "type": "barpolar"
           }
          ],
          "carpet": [
           {
            "aaxis": {
             "endlinecolor": "#A2B1C6",
             "gridcolor": "#506784",
             "linecolor": "#506784",
             "minorgridcolor": "#506784",
             "startlinecolor": "#A2B1C6"
            },
            "baxis": {
             "endlinecolor": "#A2B1C6",
             "gridcolor": "#506784",
             "linecolor": "#506784",
             "minorgridcolor": "#506784",
             "startlinecolor": "#A2B1C6"
            },
            "type": "carpet"
           }
          ],
          "choropleth": [
           {
            "colorbar": {
             "outlinewidth": 0,
             "ticks": ""
            },
            "type": "choropleth"
           }
          ],
          "contour": [
           {
            "colorbar": {
             "outlinewidth": 0,
             "ticks": ""
            },
            "colorscale": [
             [
              0,
              "#0d0887"
             ],
             [
              0.1111111111111111,
              "#46039f"
             ],
             [
              0.2222222222222222,
              "#7201a8"
             ],
             [
              0.3333333333333333,
              "#9c179e"
             ],
             [
              0.4444444444444444,
              "#bd3786"
             ],
             [
              0.5555555555555556,
              "#d8576b"
             ],
             [
              0.6666666666666666,
              "#ed7953"
             ],
             [
              0.7777777777777778,
              "#fb9f3a"
             ],
             [
              0.8888888888888888,
              "#fdca26"
             ],
             [
              1,
              "#f0f921"
             ]
            ],
            "type": "contour"
           }
          ],
          "contourcarpet": [
           {
            "colorbar": {
             "outlinewidth": 0,
             "ticks": ""
            },
            "type": "contourcarpet"
           }
          ],
          "heatmap": [
           {
            "colorbar": {
             "outlinewidth": 0,
             "ticks": ""
            },
            "colorscale": [
             [
              0,
              "#0d0887"
             ],
             [
              0.1111111111111111,
              "#46039f"
             ],
             [
              0.2222222222222222,
              "#7201a8"
             ],
             [
              0.3333333333333333,
              "#9c179e"
             ],
             [
              0.4444444444444444,
              "#bd3786"
             ],
             [
              0.5555555555555556,
              "#d8576b"
             ],
             [
              0.6666666666666666,
              "#ed7953"
             ],
             [
              0.7777777777777778,
              "#fb9f3a"
             ],
             [
              0.8888888888888888,
              "#fdca26"
             ],
             [
              1,
              "#f0f921"
             ]
            ],
            "type": "heatmap"
           }
          ],
          "heatmapgl": [
           {
            "colorbar": {
             "outlinewidth": 0,
             "ticks": ""
            },
            "colorscale": [
             [
              0,
              "#0d0887"
             ],
             [
              0.1111111111111111,
              "#46039f"
             ],
             [
              0.2222222222222222,
              "#7201a8"
             ],
             [
              0.3333333333333333,
              "#9c179e"
             ],
             [
              0.4444444444444444,
              "#bd3786"
             ],
             [
              0.5555555555555556,
              "#d8576b"
             ],
             [
              0.6666666666666666,
              "#ed7953"
             ],
             [
              0.7777777777777778,
              "#fb9f3a"
             ],
             [
              0.8888888888888888,
              "#fdca26"
             ],
             [
              1,
              "#f0f921"
             ]
            ],
            "type": "heatmapgl"
           }
          ],
          "histogram": [
           {
            "marker": {
             "colorbar": {
              "outlinewidth": 0,
              "ticks": ""
             }
            },
            "type": "histogram"
           }
          ],
          "histogram2d": [
           {
            "colorbar": {
             "outlinewidth": 0,
             "ticks": ""
            },
            "colorscale": [
             [
              0,
              "#0d0887"
             ],
             [
              0.1111111111111111,
              "#46039f"
             ],
             [
              0.2222222222222222,
              "#7201a8"
             ],
             [
              0.3333333333333333,
              "#9c179e"
             ],
             [
              0.4444444444444444,
              "#bd3786"
             ],
             [
              0.5555555555555556,
              "#d8576b"
             ],
             [
              0.6666666666666666,
              "#ed7953"
             ],
             [
              0.7777777777777778,
              "#fb9f3a"
             ],
             [
              0.8888888888888888,
              "#fdca26"
             ],
             [
              1,
              "#f0f921"
             ]
            ],
            "type": "histogram2d"
           }
          ],
          "histogram2dcontour": [
           {
            "colorbar": {
             "outlinewidth": 0,
             "ticks": ""
            },
            "colorscale": [
             [
              0,
              "#0d0887"
             ],
             [
              0.1111111111111111,
              "#46039f"
             ],
             [
              0.2222222222222222,
              "#7201a8"
             ],
             [
              0.3333333333333333,
              "#9c179e"
             ],
             [
              0.4444444444444444,
              "#bd3786"
             ],
             [
              0.5555555555555556,
              "#d8576b"
             ],
             [
              0.6666666666666666,
              "#ed7953"
             ],
             [
              0.7777777777777778,
              "#fb9f3a"
             ],
             [
              0.8888888888888888,
              "#fdca26"
             ],
             [
              1,
              "#f0f921"
             ]
            ],
            "type": "histogram2dcontour"
           }
          ],
          "mesh3d": [
           {
            "colorbar": {
             "outlinewidth": 0,
             "ticks": ""
            },
            "type": "mesh3d"
           }
          ],
          "parcoords": [
           {
            "line": {
             "colorbar": {
              "outlinewidth": 0,
              "ticks": ""
             }
            },
            "type": "parcoords"
           }
          ],
          "pie": [
           {
            "automargin": true,
            "type": "pie"
           }
          ],
          "scatter": [
           {
            "marker": {
             "line": {
              "color": "#283442"
             }
            },
            "type": "scatter"
           }
          ],
          "scatter3d": [
           {
            "line": {
             "colorbar": {
              "outlinewidth": 0,
              "ticks": ""
             }
            },
            "marker": {
             "colorbar": {
              "outlinewidth": 0,
              "ticks": ""
             }
            },
            "type": "scatter3d"
           }
          ],
          "scattercarpet": [
           {
            "marker": {
             "colorbar": {
              "outlinewidth": 0,
              "ticks": ""
             }
            },
            "type": "scattercarpet"
           }
          ],
          "scattergeo": [
           {
            "marker": {
             "colorbar": {
              "outlinewidth": 0,
              "ticks": ""
             }
            },
            "type": "scattergeo"
           }
          ],
          "scattergl": [
           {
            "marker": {
             "line": {
              "color": "#283442"
             }
            },
            "type": "scattergl"
           }
          ],
          "scattermapbox": [
           {
            "marker": {
             "colorbar": {
              "outlinewidth": 0,
              "ticks": ""
             }
            },
            "type": "scattermapbox"
           }
          ],
          "scatterpolar": [
           {
            "marker": {
             "colorbar": {
              "outlinewidth": 0,
              "ticks": ""
             }
            },
            "type": "scatterpolar"
           }
          ],
          "scatterpolargl": [
           {
            "marker": {
             "colorbar": {
              "outlinewidth": 0,
              "ticks": ""
             }
            },
            "type": "scatterpolargl"
           }
          ],
          "scatterternary": [
           {
            "marker": {
             "colorbar": {
              "outlinewidth": 0,
              "ticks": ""
             }
            },
            "type": "scatterternary"
           }
          ],
          "surface": [
           {
            "colorbar": {
             "outlinewidth": 0,
             "ticks": ""
            },
            "colorscale": [
             [
              0,
              "#0d0887"
             ],
             [
              0.1111111111111111,
              "#46039f"
             ],
             [
              0.2222222222222222,
              "#7201a8"
             ],
             [
              0.3333333333333333,
              "#9c179e"
             ],
             [
              0.4444444444444444,
              "#bd3786"
             ],
             [
              0.5555555555555556,
              "#d8576b"
             ],
             [
              0.6666666666666666,
              "#ed7953"
             ],
             [
              0.7777777777777778,
              "#fb9f3a"
             ],
             [
              0.8888888888888888,
              "#fdca26"
             ],
             [
              1,
              "#f0f921"
             ]
            ],
            "type": "surface"
           }
          ],
          "table": [
           {
            "cells": {
             "fill": {
              "color": "#506784"
             },
             "line": {
              "color": "rgb(17,17,17)"
             }
            },
            "header": {
             "fill": {
              "color": "#2a3f5f"
             },
             "line": {
              "color": "rgb(17,17,17)"
             }
            },
            "type": "table"
           }
          ]
         },
         "layout": {
          "annotationdefaults": {
           "arrowcolor": "#f2f5fa",
           "arrowhead": 0,
           "arrowwidth": 1
          },
          "autotypenumbers": "strict",
          "coloraxis": {
           "colorbar": {
            "outlinewidth": 0,
            "ticks": ""
           }
          },
          "colorscale": {
           "diverging": [
            [
             0,
             "#8e0152"
            ],
            [
             0.1,
             "#c51b7d"
            ],
            [
             0.2,
             "#de77ae"
            ],
            [
             0.3,
             "#f1b6da"
            ],
            [
             0.4,
             "#fde0ef"
            ],
            [
             0.5,
             "#f7f7f7"
            ],
            [
             0.6,
             "#e6f5d0"
            ],
            [
             0.7,
             "#b8e186"
            ],
            [
             0.8,
             "#7fbc41"
            ],
            [
             0.9,
             "#4d9221"
            ],
            [
             1,
             "#276419"
            ]
           ],
           "sequential": [
            [
             0,
             "#0d0887"
            ],
            [
             0.1111111111111111,
             "#46039f"
            ],
            [
             0.2222222222222222,
             "#7201a8"
            ],
            [
             0.3333333333333333,
             "#9c179e"
            ],
            [
             0.4444444444444444,
             "#bd3786"
            ],
            [
             0.5555555555555556,
             "#d8576b"
            ],
            [
             0.6666666666666666,
             "#ed7953"
            ],
            [
             0.7777777777777778,
             "#fb9f3a"
            ],
            [
             0.8888888888888888,
             "#fdca26"
            ],
            [
             1,
             "#f0f921"
            ]
           ],
           "sequentialminus": [
            [
             0,
             "#0d0887"
            ],
            [
             0.1111111111111111,
             "#46039f"
            ],
            [
             0.2222222222222222,
             "#7201a8"
            ],
            [
             0.3333333333333333,
             "#9c179e"
            ],
            [
             0.4444444444444444,
             "#bd3786"
            ],
            [
             0.5555555555555556,
             "#d8576b"
            ],
            [
             0.6666666666666666,
             "#ed7953"
            ],
            [
             0.7777777777777778,
             "#fb9f3a"
            ],
            [
             0.8888888888888888,
             "#fdca26"
            ],
            [
             1,
             "#f0f921"
            ]
           ]
          },
          "colorway": [
           "#636efa",
           "#EF553B",
           "#00cc96",
           "#ab63fa",
           "#FFA15A",
           "#19d3f3",
           "#FF6692",
           "#B6E880",
           "#FF97FF",
           "#FECB52"
          ],
          "font": {
           "color": "#f2f5fa"
          },
          "geo": {
           "bgcolor": "rgb(17,17,17)",
           "lakecolor": "rgb(17,17,17)",
           "landcolor": "rgb(17,17,17)",
           "showlakes": true,
           "showland": true,
           "subunitcolor": "#506784"
          },
          "hoverlabel": {
           "align": "left"
          },
          "hovermode": "closest",
          "mapbox": {
           "style": "dark"
          },
          "paper_bgcolor": "rgb(17,17,17)",
          "plot_bgcolor": "rgb(17,17,17)",
          "polar": {
           "angularaxis": {
            "gridcolor": "#506784",
            "linecolor": "#506784",
            "ticks": ""
           },
           "bgcolor": "rgb(17,17,17)",
           "radialaxis": {
            "gridcolor": "#506784",
            "linecolor": "#506784",
            "ticks": ""
           }
          },
          "scene": {
           "xaxis": {
            "backgroundcolor": "rgb(17,17,17)",
            "gridcolor": "#506784",
            "gridwidth": 2,
            "linecolor": "#506784",
            "showbackground": true,
            "ticks": "",
            "zerolinecolor": "#C8D4E3"
           },
           "yaxis": {
            "backgroundcolor": "rgb(17,17,17)",
            "gridcolor": "#506784",
            "gridwidth": 2,
            "linecolor": "#506784",
            "showbackground": true,
            "ticks": "",
            "zerolinecolor": "#C8D4E3"
           },
           "zaxis": {
            "backgroundcolor": "rgb(17,17,17)",
            "gridcolor": "#506784",
            "gridwidth": 2,
            "linecolor": "#506784",
            "showbackground": true,
            "ticks": "",
            "zerolinecolor": "#C8D4E3"
           }
          },
          "shapedefaults": {
           "line": {
            "color": "#f2f5fa"
           }
          },
          "sliderdefaults": {
           "bgcolor": "#C8D4E3",
           "bordercolor": "rgb(17,17,17)",
           "borderwidth": 1,
           "tickwidth": 0
          },
          "ternary": {
           "aaxis": {
            "gridcolor": "#506784",
            "linecolor": "#506784",
            "ticks": ""
           },
           "baxis": {
            "gridcolor": "#506784",
            "linecolor": "#506784",
            "ticks": ""
           },
           "bgcolor": "rgb(17,17,17)",
           "caxis": {
            "gridcolor": "#506784",
            "linecolor": "#506784",
            "ticks": ""
           }
          },
          "title": {
           "x": 0.05
          },
          "updatemenudefaults": {
           "bgcolor": "#506784",
           "borderwidth": 0
          },
          "xaxis": {
           "automargin": true,
           "gridcolor": "#283442",
           "linecolor": "#506784",
           "ticks": "",
           "title": {
            "standoff": 15
           },
           "zerolinecolor": "#283442",
           "zerolinewidth": 2
          },
          "yaxis": {
           "automargin": true,
           "gridcolor": "#283442",
           "linecolor": "#506784",
           "ticks": "",
           "title": {
            "standoff": 15
           },
           "zerolinecolor": "#283442",
           "zerolinewidth": 2
          }
         }
        },
        "title": {
         "text": "$SOS Chart"
        },
        "xaxis": {
         "anchor": "y",
         "domain": [
          0,
          0.94
         ]
        },
        "yaxis": {
         "anchor": "x",
         "domain": [
          0,
          1
         ]
        },
        "yaxis2": {
         "anchor": "x",
         "overlaying": "y",
         "side": "right"
        }
       }
      }
     },
     "metadata": {}
    }
   ],
   "source": [
    "unqs = list(pd.unique(unique_completed_symbols))\n",
    "print(unqs)\n",
    "fig = show_graph('SOS')\n",
    "fig"
   ]
  },
  {
   "cell_type": "code",
   "execution_count": 29,
   "metadata": {},
   "outputs": [
    {
     "output_type": "execute_result",
     "data": {
      "text/plain": [
       "4.512965257008355"
      ]
     },
     "metadata": {},
     "execution_count": 29
    }
   ],
   "source": [
    "account_history = api.get_account()\n",
    "portfolio_history = api.get_portfolio_history()\n",
    "#portfolio_history.base_value\n",
    "#data = {'base_value': [portfolio_history.base_value], 'equity': [portfolio_history.equity[:]], 'timestamp': [portfolio_history.timestamp[:]]}\n",
    "counter = 0\n",
    "data = {}\n",
    "for thing in list(portfolio_history.timestamp):\n",
    "    data[thing] = {'equity': list(portfolio_history.equity)[counter]}\n",
    "    counter += 1\n",
    "df = pd.DataFrame(data).transpose()\n",
    "#df['pct'] = df.pct_change(1)\n",
    "df.dropna(inplace=True)\n",
    "df['Norm return'] = df['equity'] / df.iloc[0]['equity']\n",
    "df['Daily Return'] = df['equity'].pct_change(1)\n",
    "sharpe = df['Daily Return'].mean() / df['Daily Return'].std()\n",
    "\n",
    "annual_sharpe = (252**0.5) * sharpe\n",
    "annual_sharpe"
   ]
  }
 ]
}